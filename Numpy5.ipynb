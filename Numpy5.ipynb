{
 "cells": [
  {
   "cell_type": "markdown",
   "metadata": {},
   "source": [
    "# Numpy Exercise 5\n",
    "\n",
    "### All of the questions in this exercise are attributed to rougier/numpy-100"
   ]
  },
  {
   "cell_type": "code",
   "execution_count": null,
   "metadata": {},
   "outputs": [],
   "source": []
  },
  {
   "cell_type": "markdown",
   "metadata": {},
   "source": [
    "#### 61. Find the nearest value from a given value in an array (★★☆)"
   ]
  },
  {
   "cell_type": "code",
   "execution_count": null,
   "metadata": {},
   "outputs": [
    {
     "name": "stdout",
     "output_type": "stream",
     "text": [
      "Nearest value to 8 is 7\n"
     ]
    }
   ],
   "source": [
    "import numpy as np\n",
    "\n",
    "arr = np.array([1, 3, 7, 9, 15, 20])\n",
    "target = 8\n",
    "\n",
    "idx = (np.abs(arr - target)).argmin()\n",
    "\n",
    "nearest_value = arr[idx]\n",
    "\n",
    "print(\"Nearest value to\", target, \"is\", nearest_value)\n"
   ]
  },
  {
   "cell_type": "markdown",
   "metadata": {},
   "source": [
    "#### 62. Considering two arrays with shape (1,3) and (3,1), how to compute their sum using an iterator? (★★☆)"
   ]
  },
  {
   "cell_type": "code",
   "execution_count": 2,
   "metadata": {},
   "outputs": [
    {
     "name": "stdout",
     "output_type": "stream",
     "text": [
      "[[5 6 7]\n",
      " [6 7 8]\n",
      " [7 8 9]]\n"
     ]
    }
   ],
   "source": [
    "import numpy as np\n",
    "\n",
    "A = np.array([[1, 2, 3]])  \n",
    "B = np.array([[4], [5], [6]]) \n",
    "\n",
    "# Create an iterator\n",
    "it = np.nditer([A, B, None]) \n",
    "\n",
    "for x, y, res in it:\n",
    "    res[...] = x + y  \n",
    "\n",
    "\n",
    "result = it.operands[2]\n",
    "\n",
    "print(result)\n"
   ]
  },
  {
   "cell_type": "markdown",
   "metadata": {},
   "source": [
    "#### 63. Create an array class that has a name attribute (★★☆)"
   ]
  },
  {
   "cell_type": "code",
   "execution_count": 3,
   "metadata": {},
   "outputs": [
    {
     "name": "stdout",
     "output_type": "stream",
     "text": [
      "[1 2 3 4]\n",
      "MyArray\n"
     ]
    }
   ],
   "source": [
    "import numpy as np\n",
    "\n",
    "class NamedArray(np.ndarray):\n",
    "    def __new__(cls, input_array, name=\"Unnamed\"):\n",
    "        obj = np.asarray(input_array).view(cls)\n",
    "        obj.name = name  \n",
    "        return obj\n",
    "\n",
    "    def __array_finalize__(self, obj):\n",
    "        if obj is None: return\n",
    "        self.name = getattr(obj, 'name', \"Unnamed\") \n",
    "\n",
    "arr = NamedArray([1, 2, 3, 4], name=\"MyArray\")\n",
    "\n",
    "print(arr)          \n",
    "print(arr.name)     \n"
   ]
  },
  {
   "cell_type": "markdown",
   "metadata": {},
   "source": [
    "#### 64. Consider a given vector, how to add 1 to each element indexed by a second vector (be careful with repeated indices)? (★★★)"
   ]
  },
  {
   "cell_type": "code",
   "execution_count": 4,
   "metadata": {},
   "outputs": [
    {
     "name": "stdout",
     "output_type": "stream",
     "text": [
      "[1 3 3 6 4 5]\n"
     ]
    }
   ],
   "source": [
    "import numpy as np\n",
    "\n",
    "# Given vector\n",
    "vector = np.array([0, 1, 2, 3, 4, 5])\n",
    "\n",
    "# Index array (indices to increment)\n",
    "indices = np.array([0, 1, 1, 2, 3, 3, 3])\n",
    "\n",
    "# Use np.add.at to increment values at the specified indices\n",
    "np.add.at(vector, indices, 1)\n",
    "\n",
    "print(vector)\n"
   ]
  },
  {
   "cell_type": "markdown",
   "metadata": {},
   "source": [
    "#### 65. How to accumulate elements of a vector (X) to an array (F) based on an index list (I)? (★★★)"
   ]
  },
  {
   "cell_type": "code",
   "execution_count": 5,
   "metadata": {},
   "outputs": [
    {
     "name": "stdout",
     "output_type": "stream",
     "text": [
      "[1 6 3 5 0]\n"
     ]
    }
   ],
   "source": [
    "import numpy as np\n",
    "\n",
    "X = np.array([1, 2, 3, 4, 5])  \n",
    "I = np.array([0, 1, 2, 1, 3])  \n",
    "\n",
    "\n",
    "F = np.zeros(5, dtype=int) \n",
    "\n",
    "np.add.at(F, I, X)\n",
    "\n",
    "print(F)\n"
   ]
  },
  {
   "cell_type": "markdown",
   "metadata": {},
   "source": [
    "#### 66. Considering a (w,h,3) image of (dtype=ubyte), compute the number of unique colors (★★☆)"
   ]
  },
  {
   "cell_type": "code",
   "execution_count": 6,
   "metadata": {},
   "outputs": [
    {
     "name": "stdout",
     "output_type": "stream",
     "text": [
      "Number of unique colors: 9997\n"
     ]
    }
   ],
   "source": [
    "import numpy as np\n",
    "\n",
    "# Create a random (w, h, 3) image with dtype=ubyte\n",
    "w, h = 100, 100  # Example image size\n",
    "image = np.random.randint(0, 256, size=(w, h, 3), dtype=np.uint8)  # Random RGB image\n",
    "\n",
    "# Reshape to a 2D array where each row is a color (R, G, B)\n",
    "reshaped_image = image.reshape(-1, 3)\n",
    "\n",
    "# Find unique rows (unique colors) and count them\n",
    "unique_colors = np.unique(reshaped_image, axis=0)\n",
    "\n",
    "# Number of unique colors\n",
    "num_unique_colors = len(unique_colors)\n",
    "\n",
    "print(f\"Number of unique colors: {num_unique_colors}\")\n"
   ]
  },
  {
   "cell_type": "markdown",
   "metadata": {},
   "source": [
    "#### 67. Considering a four dimensions array, how to get sum over the last two axis at once? (★★★)"
   ]
  },
  {
   "cell_type": "code",
   "execution_count": 7,
   "metadata": {},
   "outputs": [
    {
     "name": "stdout",
     "output_type": "stream",
     "text": [
      "Original shape: (2, 3, 4, 5)\n",
      "New shape after summing over last two axes: (2, 3)\n"
     ]
    }
   ],
   "source": [
    "import numpy as np\n",
    "\n",
    "array = np.random.rand(2, 3, 4, 5)\n",
    "\n",
    "result = np.sum(array, axis=(-2, -1))\n",
    "\n",
    "print(\"Original shape:\", array.shape)\n",
    "print(\"New shape after summing over last two axes:\", result.shape)\n"
   ]
  },
  {
   "cell_type": "markdown",
   "metadata": {},
   "source": [
    "#### 68. Considering a one-dimensional vector D, how to compute means of subsets of D using a vector S of same size describing subset  indices? (★★★)"
   ]
  },
  {
   "cell_type": "code",
   "execution_count": 8,
   "metadata": {},
   "outputs": [
    {
     "name": "stdout",
     "output_type": "stream",
     "text": [
      "Means of subsets: [20. 30. 55.]\n"
     ]
    }
   ],
   "source": [
    "import numpy as np\n",
    "\n",
    "D = np.array([10, 20, 30, 40, 50, 60])  \n",
    "S = np.array([0, 1, 0, 1, 2, 2])  \n",
    "\n",
    "sum_per_subset = np.bincount(S, weights=D)\n",
    "\n",
    "count_per_subset = np.bincount(S)\n",
    "\n",
    "mean_per_subset = sum_per_subset / count_per_subset\n",
    "\n",
    "print(\"Means of subsets:\", mean_per_subset)\n"
   ]
  },
  {
   "cell_type": "markdown",
   "metadata": {},
   "source": [
    "#### 69. How to get the diagonal of a dot product? (★★★)"
   ]
  },
  {
   "cell_type": "code",
   "execution_count": 9,
   "metadata": {},
   "outputs": [
    {
     "name": "stdout",
     "output_type": "stream",
     "text": [
      "Diagonal of dot product: [1.4746518  0.4683698  0.64752195 1.37005938]\n"
     ]
    }
   ],
   "source": [
    "import numpy as np\n",
    "\n",
    "# Create two random matrices\n",
    "A = np.random.rand(4, 4)\n",
    "B = np.random.rand(4, 4)\n",
    "\n",
    "# Compute only the diagonal of the dot product (A @ B)\n",
    "diagonal = np.einsum(\"ij,ji->i\", A, B.T)\n",
    "\n",
    "print(\"Diagonal of dot product:\", diagonal)\n"
   ]
  },
  {
   "cell_type": "markdown",
   "metadata": {},
   "source": [
    "#### 70. Consider the vector [1, 2, 3, 4, 5], how to build a new vector with 3 consecutive zeros interleaved between each value? (★★★)"
   ]
  },
  {
   "cell_type": "code",
   "execution_count": null,
   "metadata": {},
   "outputs": [],
   "source": []
  },
  {
   "cell_type": "markdown",
   "metadata": {},
   "source": [
    "#### 71. Consider an array of dimension (5,5,3), how to mulitply it by an array with dimensions (5,5)? (★★★)"
   ]
  },
  {
   "cell_type": "code",
   "execution_count": 10,
   "metadata": {},
   "outputs": [
    {
     "name": "stdout",
     "output_type": "stream",
     "text": [
      "[1 0 0 0 2 0 0 0 3 0 0 0 4 0 0 0 5 0 0 0]\n"
     ]
    }
   ],
   "source": [
    "import numpy as np\n",
    "\n",
    "# Original vector\n",
    "vector = np.array([1, 2, 3, 4, 5])\n",
    "\n",
    "new_vector = np.zeros(len(vector) * 4, dtype=vector.dtype)\n",
    "\n",
    "new_vector[::4] = vector\n",
    "\n",
    "print(new_vector)\n"
   ]
  },
  {
   "cell_type": "markdown",
   "metadata": {},
   "source": [
    "#### 72. How to swap two rows of an array? (★★★)"
   ]
  },
  {
   "cell_type": "code",
   "execution_count": 11,
   "metadata": {},
   "outputs": [
    {
     "name": "stdout",
     "output_type": "stream",
     "text": [
      "[[7 8 9]\n",
      " [4 5 6]\n",
      " [1 2 3]]\n"
     ]
    }
   ],
   "source": [
    "import numpy as np\n",
    "\n",
    "# Create a sample 2D array\n",
    "A = np.array([\n",
    "    [1, 2, 3],\n",
    "    [4, 5, 6],\n",
    "    [7, 8, 9]\n",
    "])\n",
    "\n",
    "# Swap row 0 and row 2\n",
    "A[[0, 2]] = A[[2, 0]]\n",
    "\n",
    "print(A)\n"
   ]
  },
  {
   "cell_type": "markdown",
   "metadata": {},
   "source": [
    "#### 73. Consider a set of 10 triplets describing 10 triangles (with shared vertices), find the set of unique line segments composing all the  triangles (★★★)"
   ]
  },
  {
   "cell_type": "code",
   "execution_count": 12,
   "metadata": {},
   "outputs": [
    {
     "name": "stdout",
     "output_type": "stream",
     "text": [
      "Unique edges:\n",
      "[[ 0  4]\n",
      " [ 0  7]\n",
      " [ 1  7]\n",
      " [ 4 12]\n",
      " [ 4 13]\n",
      " [ 4 17]\n",
      " [ 6  7]\n",
      " [ 6 15]\n",
      " [ 6 16]\n",
      " [ 7  1]\n",
      " [ 7  7]\n",
      " [ 7  8]\n",
      " [ 7 17]\n",
      " [ 8  6]\n",
      " [ 8 18]\n",
      " [ 9 18]\n",
      " [12 14]\n",
      " [13 15]\n",
      " [14  4]\n",
      " [15  4]\n",
      " [15  6]\n",
      " [15 15]\n",
      " [16 19]\n",
      " [17  0]\n",
      " [18  7]\n",
      " [18 19]\n",
      " [19  6]\n",
      " [19  9]]\n"
     ]
    }
   ],
   "source": [
    "import numpy as np\n",
    "\n",
    "triangles = np.random.randint(0, 20, (10, 3))  \n",
    "edges = np.sort(np.array([\n",
    "    [triangles[:, 0], triangles[:, 1]],\n",
    "    [triangles[:, 1], triangles[:, 2]],\n",
    "    [triangles[:, 2], triangles[:, 0]]\n",
    "]).T, axis=2)  \n",
    "edges = edges.reshape(-1, 2)\n",
    "\n",
    "unique_edges = np.unique(edges, axis=0)\n",
    "\n",
    "print(\"Unique edges:\")\n",
    "print(unique_edges)\n"
   ]
  },
  {
   "cell_type": "markdown",
   "metadata": {},
   "source": [
    "#### 74. Given a sorted array C that corresponds to a bincount, how to produce an array A such that np.bincount(A) == C? (★★★)"
   ]
  },
  {
   "cell_type": "code",
   "execution_count": 13,
   "metadata": {},
   "outputs": [
    {
     "name": "stdout",
     "output_type": "stream",
     "text": [
      "Reconstructed A: [0 0 0 2 2 3]\n",
      "Check bincount: [3 0 2 1]\n"
     ]
    }
   ],
   "source": [
    "import numpy as np\n",
    "\n",
    "\n",
    "C = np.array([3, 0, 2, 1])  \n",
    "A = np.repeat(np.arange(len(C)), C)\n",
    "\n",
    "print(\"Reconstructed A:\", A)\n",
    "print(\"Check bincount:\", np.bincount(A))  \n"
   ]
  },
  {
   "cell_type": "markdown",
   "metadata": {},
   "source": [
    "#### 75. How to compute averages using a sliding window over an array? (★★★)"
   ]
  },
  {
   "cell_type": "code",
   "execution_count": 14,
   "metadata": {},
   "outputs": [
    {
     "name": "stdout",
     "output_type": "stream",
     "text": [
      "Sliding window averages: [2. 3. 4. 5. 6. 7. 8.]\n"
     ]
    }
   ],
   "source": [
    "import numpy as np\n",
    "\n",
    "def moving_average(arr, window_size):\n",
    "    return np.convolve(arr, np.ones(window_size)/window_size, mode='valid')\n",
    "\n",
    "arr = np.array([1, 2, 3, 4, 5, 6, 7, 8, 9])\n",
    "\n",
    "result = moving_average(arr, 3)\n",
    "\n",
    "print(\"Sliding window averages:\", result)\n"
   ]
  },
  {
   "cell_type": "markdown",
   "metadata": {},
   "source": [
    "#### 76. Consider a one-dimensional array Z, build a two-dimensional array whose first row is (Z[0],Z[1],Z[2]) and each subsequent row is  shifted by 1 (last row should be (Z[-3],Z[-2],Z[-1]) (★★★)"
   ]
  },
  {
   "cell_type": "code",
   "execution_count": 15,
   "metadata": {},
   "outputs": [
    {
     "name": "stdout",
     "output_type": "stream",
     "text": [
      "[[1 2 3]\n",
      " [2 3 4]\n",
      " [3 4 5]\n",
      " [4 5 6]\n",
      " [5 6 7]\n",
      " [6 7 8]\n",
      " [7 8 9]]\n"
     ]
    }
   ],
   "source": [
    "import numpy as np\n",
    "\n",
    "Z = np.array([1, 2, 3, 4, 5, 6, 7, 8, 9])\n",
    "\n",
    "window_size = 3\n",
    "result = np.lib.stride_tricks.sliding_window_view(Z, window_size)\n",
    "\n",
    "print(result)\n"
   ]
  },
  {
   "cell_type": "markdown",
   "metadata": {},
   "source": [
    "#### 77. How to negate a boolean, or to change the sign of a float inplace? (★★★)"
   ]
  },
  {
   "cell_type": "code",
   "execution_count": 16,
   "metadata": {},
   "outputs": [
    {
     "name": "stdout",
     "output_type": "stream",
     "text": [
      "[False  True False False  True]\n"
     ]
    }
   ],
   "source": [
    "import numpy as np\n",
    "\n",
    "bool_arr = np.array([True, False, True, True, False])\n",
    "\n",
    "bool_arr[:] = ~bool_arr  \n",
    "\n",
    "print(bool_arr)  \n"
   ]
  },
  {
   "cell_type": "markdown",
   "metadata": {},
   "source": [
    "#### 78. Consider 2 sets of points P0,P1 describing lines (2d) and a point p, how to compute distance from p to each line i (P0[i],P1[i])? (★★★)"
   ]
  },
  {
   "cell_type": "code",
   "execution_count": 19,
   "metadata": {},
   "outputs": [
    {
     "name": "stdout",
     "output_type": "stream",
     "text": [
      "[1.         0.70710678 0.70710678]\n"
     ]
    }
   ],
   "source": [
    "import numpy as np\n",
    "\n",
    "# Define sets of points\n",
    "P0 = np.array([[0, 0], [1, 1], [2, 2]])  \n",
    "P1 = np.array([[1, 0], [2, 2], [3, 3]])  \n",
    "p = np.array([0, 1])  \n",
    "\n",
    "# Compute the distances using the formula\n",
    "line_vec = P1 - P0  \n",
    "point_vec = P0 - p  \n",
    "\n",
    "# Compute cross product of the 2D vectors (determinant)\n",
    "cross_product = np.abs(line_vec[:, 0] * point_vec[:, 1] - line_vec[:, 1] * point_vec[:, 0])\n",
    "\n",
    "# Compute line lengths\n",
    "line_length = np.linalg.norm(line_vec, axis=1)\n",
    "\n",
    "# Compute distances\n",
    "distances = cross_product / line_length\n",
    "\n",
    "print(distances)\n"
   ]
  },
  {
   "cell_type": "markdown",
   "metadata": {},
   "source": [
    "#### 79. Consider 2 sets of points P0,P1 describing lines (2d) and a set of points P, how to compute distance from each point j (P[j]) to each line i (P0[i],P1[i])? (★★★)"
   ]
  },
  {
   "cell_type": "code",
   "execution_count": 20,
   "metadata": {},
   "outputs": [
    {
     "name": "stdout",
     "output_type": "stream",
     "text": [
      "[[1.         0.70710678 0.70710678]\n",
      " [0.         0.70710678 0.70710678]\n",
      " [3.         0.70710678 0.70710678]]\n"
     ]
    }
   ],
   "source": [
    "import numpy as np\n",
    "\n",
    "\n",
    "P0 = np.array([[0, 0], [1, 1], [2, 2]]) \n",
    "P1 = np.array([[1, 0], [2, 2], [3, 3]])  \n",
    "P = np.array([[0, 1], [1, 0], [2, 3]])  \n",
    "\n",
    "line_vec = P1 - P0  \n",
    "\n",
    "line_length = np.linalg.norm(line_vec, axis=1)  \n",
    "\n",
    "\n",
    "distances = np.zeros((len(P), len(P0))) \n",
    "\n",
    "for j in range(len(P)):  \n",
    "    point_vec = P0 - P[j] \n",
    "    cross_product = np.abs(line_vec[:, 0] * point_vec[:, 1] - line_vec[:, 1] * point_vec[:, 0])  # Shape (N,)\n",
    "    distances[j] = cross_product / line_length\n",
    "\n",
    "# Define sets of points\n",
    "P0 = np.array([[0, 0], [1, 1], [2, 2]]) \n",
    "P1 = np.array([[1, 0], [2, 2], [3, 3]]) \n",
    "P = np.array([[0, 1], [1, 0], [2, 3]])   \n",
    "\n",
    "print(distances)\n"
   ]
  },
  {
   "cell_type": "markdown",
   "metadata": {},
   "source": [
    "#### 80. Consider an arbitrary array, write a function that extract a subpart with a fixed shape and centered on a given element (pad with a `fill` value when necessary) (★★★)"
   ]
  },
  {
   "cell_type": "code",
   "execution_count": 22,
   "metadata": {},
   "outputs": [],
   "source": [
    "import numpy as np\n",
    "\n",
    "def extract_subarray(arr, center, shape, fill=0):\n",
    "    rows, cols = shape\n",
    "    cx, cy = center \n",
    "    \n",
    "\n",
    "    start_x, end_x = cx - rows // 2, cx + (rows + 1) // 2\n",
    "    start_y, end_y = cy - cols // 2, cy + (cols + 1) // 2\n",
    "\n",
    "\n",
    "    subarray = np.full((rows, cols), fill, dtype=arr.dtype)\n",
    "\n",
    "\n",
    "    x_min = max(start_x, 0)\n",
    "    x_max = min(end_x, arr.shape[0])\n",
    "    y_min = max(start_y, 0)\n",
    "    y_max = min(end_y, arr.shape[1])\n",
    "\n",
    "    sx_min, sx_max = x_min - start_x, x_max - start_x\n",
    "    sy_min, sy_max = y_min - start_y, y_max - start_y\n",
    "\n",
    "\n",
    "    subarray[sx_min:sx_max, sy_min:sy_max] = arr[x_min:x_max, y_min:y_max]\n",
    "\n",
    "    return subarray\n"
   ]
  },
  {
   "cell_type": "markdown",
   "metadata": {},
   "source": [
    "#### 81. Consider an array Z = [1,2,3,4,5,6,7,8,9,10,11,12,13,14], how to generate an array R = [[1,2,3,4], [2,3,4,5], [3,4,5,6], ..., [11,12,13,14]]? (★★★)"
   ]
  },
  {
   "cell_type": "code",
   "execution_count": 23,
   "metadata": {},
   "outputs": [
    {
     "name": "stdout",
     "output_type": "stream",
     "text": [
      "[[ 1  2  3  4]\n",
      " [ 2  3  4  5]\n",
      " [ 3  4  5  6]\n",
      " [ 4  5  6  7]\n",
      " [ 5  6  7  8]\n",
      " [ 6  7  8  9]\n",
      " [ 7  8  9 10]\n",
      " [ 8  9 10 11]\n",
      " [ 9 10 11 12]\n",
      " [10 11 12 13]\n",
      " [11 12 13 14]]\n"
     ]
    }
   ],
   "source": [
    "import numpy as np\n",
    "\n",
    "Z = np.array([1,2,3,4,5,6,7,8,9,10,11,12,13,14])\n",
    "window_size = 4 \n",
    "\n",
    "from numpy.lib.stride_tricks import sliding_window_view\n",
    "R = sliding_window_view(Z, window_size)\n",
    "\n",
    "print(R)\n"
   ]
  },
  {
   "cell_type": "markdown",
   "metadata": {},
   "source": [
    "#### 82. Compute a matrix rank (★★★)"
   ]
  },
  {
   "cell_type": "code",
   "execution_count": 24,
   "metadata": {},
   "outputs": [
    {
     "name": "stdout",
     "output_type": "stream",
     "text": [
      "Matrix Rank: 2\n"
     ]
    }
   ],
   "source": [
    "import numpy as np\n",
    "\n",
    "A = np.array([[1, 2, 3],\n",
    "              [4, 5, 6],\n",
    "              [7, 8, 9]])\n",
    "\n",
    "rank = np.linalg.matrix_rank(A)\n",
    "\n",
    "print(\"Matrix Rank:\", rank)\n"
   ]
  },
  {
   "cell_type": "markdown",
   "metadata": {},
   "source": [
    "#### 83. How to find the most frequent value in an array?"
   ]
  },
  {
   "cell_type": "code",
   "execution_count": 25,
   "metadata": {},
   "outputs": [
    {
     "name": "stdout",
     "output_type": "stream",
     "text": [
      "Most frequent value: 3\n"
     ]
    }
   ],
   "source": [
    "import numpy as np\n",
    "\n",
    "arr = np.array([1, 3, 2, 3, 4, 3, 5, 2, 1, 3])\n",
    "\n",
    "most_frequent = np.bincount(arr).argmax()\n",
    "\n",
    "print(\"Most frequent value:\", most_frequent)\n"
   ]
  },
  {
   "cell_type": "markdown",
   "metadata": {},
   "source": [
    "#### 84. Extract all the contiguous 3x3 blocks from a random 10x10 matrix (★★★)"
   ]
  },
  {
   "cell_type": "code",
   "execution_count": 26,
   "metadata": {},
   "outputs": [
    {
     "name": "stdout",
     "output_type": "stream",
     "text": [
      "Shape of extracted blocks: (8, 8, 3, 3)\n",
      "First 3x3 block:\n",
      " [[24 30 41]\n",
      " [92 45 37]\n",
      " [30 51 17]]\n"
     ]
    }
   ],
   "source": [
    "import numpy as np\n",
    "from numpy.lib.stride_tricks import sliding_window_view\n",
    "\n",
    "# Create a random 10x10 matrix\n",
    "matrix = np.random.randint(0, 100, (10, 10))\n",
    "\n",
    "# Extract contiguous 3x3 blocks\n",
    "blocks = sliding_window_view(matrix, (3, 3))\n",
    "\n",
    "print(\"Shape of extracted blocks:\", blocks.shape)  # (8, 8, 3, 3)\n",
    "print(\"First 3x3 block:\\n\", blocks[0, 0])  # Example block\n"
   ]
  },
  {
   "cell_type": "markdown",
   "metadata": {},
   "source": [
    "#### 85. Create a 2D array subclass such that Z[i,j] == Z[j,i] (★★★)"
   ]
  },
  {
   "cell_type": "code",
   "execution_count": 27,
   "metadata": {},
   "outputs": [
    {
     "name": "stdout",
     "output_type": "stream",
     "text": [
      "[[0. 0. 0. 0. 0.]\n",
      " [0. 0. 0. 7. 0.]\n",
      " [0. 0. 0. 0. 0.]\n",
      " [0. 7. 0. 0. 0.]\n",
      " [0. 0. 0. 0. 0.]]\n"
     ]
    }
   ],
   "source": [
    "import numpy as np\n",
    "\n",
    "class SymmetricArray(np.ndarray):\n",
    "    def __setitem__(self, index, value):\n",
    "        i, j = index\n",
    "        super(SymmetricArray, self).__setitem__((i, j), value)\n",
    "        super(SymmetricArray, self).__setitem__((j, i), value)  \n",
    "\n",
    "def symmetric_array(shape, fill_value=0, dtype=float):\n",
    "    \"\"\"Creates a symmetric 2D array\"\"\"\n",
    "    assert shape[0] == shape[1], \"Matrix must be square\"\n",
    "    data = np.full(shape, fill_value, dtype=dtype)\n",
    "    return data.view(SymmetricArray)\n",
    "\n",
    "\n",
    "Z = symmetric_array((5, 5))\n",
    "Z[1, 3] = 7 \n",
    "print(Z)\n"
   ]
  },
  {
   "cell_type": "markdown",
   "metadata": {},
   "source": [
    "#### 86. Consider a set of p matrices wich shape (n,n) and a set of p vectors with shape (n,1). How to compute the sum of of the p matrix products at once? (result has shape (n,1)) (★★★)"
   ]
  },
  {
   "cell_type": "code",
   "execution_count": null,
   "metadata": {},
   "outputs": [
    {
     "name": "stdout",
     "output_type": "stream",
     "text": [
      "[[3.70615473]\n",
      " [3.02216283]\n",
      " [3.00643426]]\n"
     ]
    }
   ],
   "source": [
    "import numpy as np\n",
    "\n",
    "p, n = 4, 3 \n",
    "M = np.random.rand(p, n, n)  \n",
    "V = np.random.rand(p, n, 1) \n",
    "\n",
    "result = np.einsum('pij,pjk->ik', M, V)\n",
    "\n",
    "print(result)  \n"
   ]
  },
  {
   "cell_type": "markdown",
   "metadata": {},
   "source": [
    "#### 87. Consider a 16x16 array, how to get the block-sum (block size is 4x4)? (★★★)"
   ]
  },
  {
   "cell_type": "code",
   "execution_count": null,
   "metadata": {},
   "outputs": [
    {
     "name": "stdout",
     "output_type": "stream",
     "text": [
      "[[46 65 79 61]\n",
      " [78 66 73 74]\n",
      " [66 56 69 65]\n",
      " [99 91 73 57]]\n"
     ]
    }
   ],
   "source": [
    "import numpy as np\n",
    "\n",
    "\n",
    "A = np.random.randint(0, 10, (16, 16))\n",
    "\n",
    "\n",
    "block_size = 4\n",
    "block_sum = A.reshape(16//block_size, block_size, 16//block_size, block_size).sum(axis=(1, 3))\n",
    "\n",
    "print(block_sum)  \n"
   ]
  },
  {
   "cell_type": "markdown",
   "metadata": {},
   "source": [
    "#### 88. How to implement the Game of Life using numpy arrays? (★★★)"
   ]
  },
  {
   "cell_type": "code",
   "execution_count": 32,
   "metadata": {},
   "outputs": [
    {
     "name": "stdout",
     "output_type": "stream",
     "text": [
      "[[0 1 1 0 0 0 0 1 0 1]\n",
      " [0 1 1 0 0 0 0 0 0 0]\n",
      " [0 0 0 0 0 1 0 0 0 0]\n",
      " [0 0 0 1 1 1 0 0 0 0]\n",
      " [0 0 0 1 0 0 0 0 0 0]\n",
      " [1 1 1 1 0 1 0 0 0 0]\n",
      " [0 0 1 0 0 0 0 1 0 1]\n",
      " [1 0 0 1 1 1 1 0 0 0]\n",
      " [1 0 0 0 0 0 1 0 1 0]\n",
      " [0 1 1 0 1 0 0 0 0 0]] \n",
      "\n",
      "[[0 0 0 0 0 0 0 0 0 0]\n",
      " [1 1 1 0 0 0 0 0 0 0]\n",
      " [0 0 1 1 0 1 0 0 0 0]\n",
      " [0 0 0 1 0 1 0 0 0 0]\n",
      " [0 1 0 0 0 1 0 0 0 0]\n",
      " [1 1 0 1 1 0 0 0 0 0]\n",
      " [0 0 0 0 0 0 0 0 0 1]\n",
      " [1 1 0 1 1 1 1 0 1 0]\n",
      " [1 0 1 0 0 0 1 1 0 1]\n",
      " [0 0 1 1 0 0 0 1 1 1]] \n",
      "\n",
      "[[1 0 0 1 0 0 0 0 1 1]\n",
      " [0 1 1 1 0 0 0 0 0 0]\n",
      " [0 0 0 1 0 0 0 0 0 0]\n",
      " [0 0 0 1 0 1 1 0 0 0]\n",
      " [1 1 0 1 0 1 0 0 0 0]\n",
      " [1 1 1 0 1 0 0 0 0 0]\n",
      " [0 0 0 0 0 0 0 0 0 1]\n",
      " [0 1 1 1 1 1 1 0 1 0]\n",
      " [0 0 0 0 0 0 0 0 0 0]\n",
      " [1 1 1 1 0 0 1 1 0 1]] \n",
      "\n",
      "[[0 0 0 0 1 0 0 1 1 0]\n",
      " [1 1 0 1 1 0 0 0 0 1]\n",
      " [0 0 0 1 0 0 0 0 0 0]\n",
      " [0 0 0 1 0 1 1 0 0 0]\n",
      " [1 0 0 1 0 1 1 0 0 0]\n",
      " [0 0 1 1 1 0 0 0 0 1]\n",
      " [0 0 0 0 0 0 0 0 0 1]\n",
      " [0 0 1 1 1 1 0 0 0 0]\n",
      " [0 0 0 0 0 0 0 0 1 1]\n",
      " [0 1 1 1 0 0 0 1 0 0]] \n",
      "\n",
      "[[0 0 0 0 1 0 0 1 1 1]\n",
      " [1 0 1 1 1 0 0 0 1 1]\n",
      " [1 0 0 1 0 1 0 0 0 0]\n",
      " [0 0 1 1 0 1 1 0 0 0]\n",
      " [0 0 0 0 0 0 1 0 0 0]\n",
      " [1 0 1 1 1 1 0 0 0 1]\n",
      " [0 0 0 0 0 1 0 0 0 0]\n",
      " [0 0 0 1 1 0 0 0 1 1]\n",
      " [0 1 0 0 0 0 0 0 1 0]\n",
      " [0 0 1 1 0 0 0 1 0 1]] \n",
      "\n"
     ]
    }
   ],
   "source": [
    "import numpy as np\n",
    "from scipy.signal import convolve2d\n",
    "\n",
    "def game_of_life_step(grid):\n",
    "    \"\"\"Compute the next step in Conway's Game of Life.\"\"\"\n",
    "    \n",
    "    # Define the 3x3 kernel for counting neighbors\n",
    "    kernel = np.array([[1, 1, 1],\n",
    "                       [1, 0, 1],  # Excludes center cell\n",
    "                       [1, 1, 1]])\n",
    "    \n",
    "    # Count neighbors using 2D convolution\n",
    "    neighbors = convolve2d(grid, kernel, mode='same', boundary='wrap')\n",
    "\n",
    "    # Apply Game of Life rules\n",
    "    new_grid = (neighbors == 3) | ((grid == 1) & (neighbors == 2))\n",
    "\n",
    "    return new_grid.astype(int)\n",
    "\n",
    "# Initialize a random 10x10 grid (1s = alive, 0s = dead)\n",
    "np.random.seed(42)  # For reproducibility\n",
    "grid = np.random.choice([0, 1], size=(10, 10), p=[0.7, 0.3])\n",
    "\n",
    "\n",
    "for _ in range(5):  # Run for 5 iterations\n",
    "    print(grid, \"\\n\")\n",
    "    grid = game_of_life_step(grid)\n"
   ]
  },
  {
   "cell_type": "markdown",
   "metadata": {},
   "source": [
    "#### 89. How to get the n largest values of an array (★★★)"
   ]
  },
  {
   "cell_type": "code",
   "execution_count": 33,
   "metadata": {},
   "outputs": [
    {
     "name": "stdout",
     "output_type": "stream",
     "text": [
      "[ 50  70 100]\n"
     ]
    }
   ],
   "source": [
    "import numpy as np\n",
    "\n",
    "# Sample array\n",
    "arr = np.array([10, 20, 5, 8, 70, 30, 100, 50])\n",
    "\n",
    "# Number of largest elements to find\n",
    "n = 3\n",
    "\n",
    "# Get the n largest elements\n",
    "largest_values = np.partition(arr, -n)[-n:]\n",
    "\n",
    "print(largest_values)  # Output: [50 70 100]\n"
   ]
  },
  {
   "cell_type": "markdown",
   "metadata": {},
   "source": [
    "#### 90. Given an arbitrary number of vectors, build the cartesian product (every combinations of every item) (★★★)"
   ]
  },
  {
   "cell_type": "code",
   "execution_count": 34,
   "metadata": {},
   "outputs": [
    {
     "name": "stdout",
     "output_type": "stream",
     "text": [
      "[[1 3 5]\n",
      " [1 3 6]\n",
      " [1 4 5]\n",
      " [1 4 6]\n",
      " [2 3 5]\n",
      " [2 3 6]\n",
      " [2 4 5]\n",
      " [2 4 6]]\n"
     ]
    }
   ],
   "source": [
    "import numpy as np\n",
    "from itertools import product\n",
    "\n",
    "# Example vectors\n",
    "vec1 = [1, 2]\n",
    "vec2 = [3, 4]\n",
    "vec3 = [5, 6]\n",
    "\n",
    "# Compute the Cartesian product\n",
    "cartesian_product = np.array(list(product(vec1, vec2, vec3)))\n",
    "\n",
    "print(cartesian_product)\n"
   ]
  },
  {
   "cell_type": "markdown",
   "metadata": {},
   "source": [
    "#### 91. How to create a record array from a regular array? (★★★)"
   ]
  },
  {
   "cell_type": "code",
   "execution_count": 35,
   "metadata": {},
   "outputs": [
    {
     "name": "stdout",
     "output_type": "stream",
     "text": [
      "[(1, 'Alice', 25) (2, 'Bob', 30) (3, 'Charlie', 22)]\n",
      "['Alice' 'Bob' 'Charlie']\n"
     ]
    }
   ],
   "source": [
    "structured_array = np.array([(1, 'Alice', 25), \n",
    "                             (2, 'Bob', 30), \n",
    "                             (3, 'Charlie', 22)], \n",
    "                            dtype=[('ID', 'i4'), ('Name', 'U10'), ('Age', 'i4')])\n",
    "\n",
    "print(structured_array)\n",
    "print(structured_array['Name'])  # Access the 'Name' column\n"
   ]
  },
  {
   "cell_type": "markdown",
   "metadata": {},
   "source": [
    "#### 92. Consider a large vector Z, compute Z to the power of 3 using 3 different methods (★★★)"
   ]
  },
  {
   "cell_type": "code",
   "execution_count": 39,
   "metadata": {},
   "outputs": [
    {
     "name": "stdout",
     "output_type": "stream",
     "text": [
      "Exponentiation (**): 0.03917646408081055\n",
      "np.power(): 0.03482985496520996\n",
      "Multiplication (*): 0.0050733089447021484\n"
     ]
    }
   ],
   "source": [
    "import time\n",
    "\n",
    "Z = np.random.rand(10**6) \n",
    "\n",
    "start = time.time()\n",
    "Z ** 3\n",
    "print(\"Exponentiation (**):\", time.time() - start)\n",
    "\n",
    "start = time.time()\n",
    "np.power(Z, 3)\n",
    "print(\"np.power():\", time.time() - start)\n",
    "\n",
    "start = time.time()\n",
    "Z * Z * Z\n",
    "print(\"Multiplication (*):\", time.time() - start)\n"
   ]
  },
  {
   "cell_type": "markdown",
   "metadata": {},
   "source": [
    "#### 93. Consider two arrays A and B of shape (8,3) and (2,2). How to find rows of A that contain elements of each row of B regardless of the order of the elements in B? (★★★)"
   ]
  },
  {
   "cell_type": "code",
   "execution_count": 41,
   "metadata": {},
   "outputs": [
    {
     "name": "stdout",
     "output_type": "stream",
     "text": [
      "Array A:\n",
      " [[2 2 6]\n",
      " [1 5 0]\n",
      " [8 7 5]\n",
      " [7 3 7]\n",
      " [0 5 0]\n",
      " [4 7 0]\n",
      " [1 5 4]\n",
      " [7 2 0]]\n",
      "\n",
      "Array B:\n",
      " [[2 7]\n",
      " [4 5]]\n",
      "\n",
      "Matching rows in A for each row in B: [array([], dtype=int64), array([], dtype=int64)]\n"
     ]
    }
   ],
   "source": [
    "import numpy as np\n",
    "\n",
    "# Sample data\n",
    "A = np.random.randint(0, 10, (8, 3))  # 8 rows, 3 columns\n",
    "B = np.random.randint(0, 10, (2, 2))  # 2 rows, 2 columns\n",
    "\n",
    "# Function to find matching rows\n",
    "def find_matching_rows(A, B):\n",
    "    matches = []\n",
    "    for row in B:\n",
    "        mask = np.all(np.isin(A, row), axis=1)  # Corrected order of arguments\n",
    "        matches.append(np.where(mask)[0])  # Extract matching row indices\n",
    "    return matches\n",
    "\n",
    "# Get matching row indices\n",
    "matching_rows = find_matching_rows(A, B)\n",
    "\n",
    "# Print results\n",
    "print(\"Array A:\\n\", A)\n",
    "print(\"\\nArray B:\\n\", B)\n",
    "print(\"\\nMatching rows in A for each row in B:\", matching_rows)\n"
   ]
  },
  {
   "cell_type": "markdown",
   "metadata": {},
   "source": [
    "#### 94. Considering a 10x3 matrix, extract rows with unequal values (e.g. [2,2,3]) (★★★)"
   ]
  },
  {
   "cell_type": "code",
   "execution_count": 42,
   "metadata": {},
   "outputs": [
    {
     "name": "stdout",
     "output_type": "stream",
     "text": [
      "Array A:\n",
      " [[7 6 4]\n",
      " [7 8 4]\n",
      " [1 5 1]\n",
      " [6 6 2]\n",
      " [3 0 2]\n",
      " [5 1 6]\n",
      " [4 5 5]\n",
      " [4 3 7]]\n",
      "\n",
      "Array B:\n",
      " [[8 7]\n",
      " [7 3]]\n",
      "\n",
      "Matching rows in A for each row in B: [array([], dtype=int64), array([], dtype=int64)]\n"
     ]
    }
   ],
   "source": [
    "import numpy as np\n",
    "\n",
    "# Sample data\n",
    "A = np.random.randint(0, 10, (8, 3))  # 8 rows, 3 columns\n",
    "B = np.random.randint(0, 10, (2, 2))  # 2 rows, 2 columns\n",
    "\n",
    "# Function to find matching rows\n",
    "def find_matching_rows(A, B):\n",
    "    matches = []\n",
    "    for row in B:\n",
    "        mask = np.all(np.isin(A, row), axis=1)  # Corrected order of arguments\n",
    "        matches.append(np.where(mask)[0])  # Extract matching row indices\n",
    "    return matches\n",
    "\n",
    "# Get matching row indices\n",
    "matching_rows = find_matching_rows(A, B)\n",
    "\n",
    "# Print results\n",
    "print(\"Array A:\\n\", A)\n",
    "print(\"\\nArray B:\\n\", B)\n",
    "print(\"\\nMatching rows in A for each row in B:\", matching_rows)\n"
   ]
  },
  {
   "cell_type": "markdown",
   "metadata": {},
   "source": [
    "#### 95. Convert a vector of ints into a matrix binary representation (★★★)"
   ]
  },
  {
   "cell_type": "code",
   "execution_count": 43,
   "metadata": {},
   "outputs": [
    {
     "name": "stdout",
     "output_type": "stream",
     "text": [
      "[[0 0 0 0 0 0 1 1]\n",
      " [0 0 0 0 0 1 1 1]\n",
      " [0 0 0 0 1 0 0 1]\n",
      " [0 0 0 0 1 1 1 1]]\n"
     ]
    }
   ],
   "source": [
    "import numpy as np\n",
    "\n",
    "vector = np.array([3, 7, 9, 15], dtype=np.uint8)\n",
    "\n",
    "binary_matrix = np.array([list(np.binary_repr(x, width=8)) for x in vector], dtype=int)\n",
    "\n",
    "print(binary_matrix)\n"
   ]
  },
  {
   "cell_type": "markdown",
   "metadata": {},
   "source": [
    "#### 96. Given a two dimensional array, how to extract unique rows? (★★★)"
   ]
  },
  {
   "cell_type": "code",
   "execution_count": null,
   "metadata": {},
   "outputs": [
    {
     "name": "stdout",
     "output_type": "stream",
     "text": [
      "[[1 2 3]\n",
      " [4 5 6]\n",
      " [7 8 9]]\n"
     ]
    }
   ],
   "source": [
    "import numpy as np\n",
    "\n",
    "array = np.array([[1, 2, 3],\n",
    "                  [4, 5, 6],\n",
    "                  [1, 2, 3],\n",
    "                  [7, 8, 9],\n",
    "                  [4, 5, 6]])\n",
    "\n",
    "unique_rows = np.unique(array, axis=0)\n",
    "\n",
    "print(unique_rows)\n"
   ]
  },
  {
   "cell_type": "markdown",
   "metadata": {},
   "source": [
    "#### 97. Considering 2 vectors A & B, write the einsum equivalent of inner, outer, sum, and mul function (★★★)"
   ]
  },
  {
   "cell_type": "code",
   "execution_count": 45,
   "metadata": {},
   "outputs": [
    {
     "name": "stdout",
     "output_type": "stream",
     "text": [
      "Inner Product: 32\n",
      "Outer Product:\n",
      " [[ 4  5  6]\n",
      " [ 8 10 12]\n",
      " [12 15 18]]\n",
      "Sum of A: 6\n",
      "Element-wise Multiplication: [ 4 10 18]\n"
     ]
    }
   ],
   "source": [
    "import numpy as np\n",
    "\n",
    "A = np.array([1, 2, 3])\n",
    "B = np.array([4, 5, 6])\n",
    "\n",
    "inner_product = np.einsum('i,i->', A, B)  \n",
    "\n",
    "# Outer product\n",
    "outer_product = np.einsum('i,j->ij', A, B) \n",
    "\n",
    "# Sum of all elements in A\n",
    "sum_A = np.einsum('i->', A)  \n",
    "\n",
    "# Element-wise multiplication\n",
    "elementwise_mul = np.einsum('i,i->i', A, B)  \n",
    "\n",
    "# Print results\n",
    "print(\"Inner Product:\", inner_product)\n",
    "print(\"Outer Product:\\n\", outer_product)\n",
    "print(\"Sum of A:\", sum_A)\n",
    "print(\"Element-wise Multiplication:\", elementwise_mul)\n"
   ]
  },
  {
   "cell_type": "markdown",
   "metadata": {},
   "source": [
    "#### 98. Considering a path described by two vectors (X,Y), how to sample it using equidistant samples (★★★)?"
   ]
  },
  {
   "cell_type": "code",
   "execution_count": 46,
   "metadata": {},
   "outputs": [
    {
     "name": "stdout",
     "output_type": "stream",
     "text": [
      "New X: [0.         0.44444444 0.88888889 1.33333333 1.77777778 2.22222222\n",
      " 2.66666667 3.11111111 3.55555556 4.        ]\n",
      "New Y: [0.         0.44444444 0.88888889 0.66666667 0.22222222 0.22222222\n",
      " 0.66666667 0.88888889 0.44444444 0.        ]\n"
     ]
    }
   ],
   "source": [
    "import numpy as np\n",
    "from scipy.interpolate import interp1d\n",
    "\n",
    "\n",
    "X = np.array([0, 1, 2, 3, 4])\n",
    "Y = np.array([0, 1, 0, 1, 0])\n",
    "\n",
    "distances = np.sqrt(np.diff(X)**2 + np.diff(Y)**2)  \n",
    "arc_length = np.insert(np.cumsum(distances), 0, 0)  \n",
    "\n",
    "\n",
    "num_samples = 10\n",
    "new_arc_length = np.linspace(0, arc_length[-1], num_samples)\n",
    "\n",
    "interp_x = interp1d(arc_length, X, kind='linear')\n",
    "interp_y = interp1d(arc_length, Y, kind='linear')\n",
    "\n",
    "new_X = interp_x(new_arc_length)\n",
    "new_Y = interp_y(new_arc_length)\n",
    "\n",
    "print(\"New X:\", new_X)\n",
    "print(\"New Y:\", new_Y)\n"
   ]
  },
  {
   "cell_type": "markdown",
   "metadata": {},
   "source": [
    "#### 99. Given an integer n and a 2D array X, select from X the rows which can be interpreted as draws from a multinomial distribution with n degrees, i.e., the rows which only contain integers and which sum to n. (★★★)"
   ]
  },
  {
   "cell_type": "code",
   "execution_count": 47,
   "metadata": {},
   "outputs": [
    {
     "name": "stdout",
     "output_type": "stream",
     "text": [
      "[[3. 2. 1.]\n",
      " [4. 1. 1.]\n",
      " [2. 2. 2.]\n",
      " [5. 0. 1.]]\n"
     ]
    }
   ],
   "source": [
    "import numpy as np\n",
    "\n",
    "def select_multinomial_rows(n, X):\n",
    "    # Condition 1: Check if all elements in a row are integers\n",
    "    is_integer = np.all(np.mod(X, 1) == 0, axis=1)  \n",
    "    \n",
    "    # Condition 2: Check if row sums to n\n",
    "    sums_to_n = np.sum(X, axis=1) == n  \n",
    "    \n",
    "    # Select valid rows\n",
    "    return X[is_integer & sums_to_n]\n",
    "\n",
    "# Example usage\n",
    "X = np.array([[3, 2, 1], \n",
    "              [4.0, 1, 1], \n",
    "              [2, 2, 2], \n",
    "              [5, 0, 1], \n",
    "              [3.5, 1.5, 1]]) \n",
    "\n",
    "n = 6\n",
    "valid_rows = select_multinomial_rows(n, X)\n",
    "\n",
    "print(valid_rows)\n"
   ]
  },
  {
   "cell_type": "markdown",
   "metadata": {},
   "source": [
    "#### 100. Compute bootstrapped 95% confidence intervals for the mean of a 1D array X (i.e., resample the elements of an array with replacement N times, compute the mean of each sample, and then compute percentiles over the means). (★★★)"
   ]
  },
  {
   "cell_type": "code",
   "execution_count": 48,
   "metadata": {},
   "outputs": [
    {
     "name": "stdout",
     "output_type": "stream",
     "text": [
      "95% Confidence Interval: (-0.2780, 0.1430)\n"
     ]
    }
   ],
   "source": [
    "import numpy as np\n",
    "\n",
    "def bootstrap_ci(X, N=1000, ci=95):\n",
    "    means = np.array([np.mean(np.random.choice(X, size=len(X), replace=True)) for _ in range(N)])\n",
    "    lower_percentile = (100 - ci) / 2\n",
    "    upper_percentile = 100 - lower_percentile\n",
    "    return np.percentile(means, [lower_percentile, upper_percentile])\n",
    "\n",
    "# Example usage:\n",
    "X = np.random.randn(100)  # Generate a random sample\n",
    "ci_lower, ci_upper = bootstrap_ci(X)\n",
    "print(f\"95% Confidence Interval: ({ci_lower:.4f}, {ci_upper:.4f})\")\n"
   ]
  },
  {
   "cell_type": "code",
   "execution_count": null,
   "metadata": {},
   "outputs": [],
   "source": []
  }
 ],
 "metadata": {
  "kernelspec": {
   "display_name": "Python 3",
   "language": "python",
   "name": "python3"
  },
  "language_info": {
   "codemirror_mode": {
    "name": "ipython",
    "version": 3
   },
   "file_extension": ".py",
   "mimetype": "text/x-python",
   "name": "python",
   "nbconvert_exporter": "python",
   "pygments_lexer": "ipython3",
   "version": "3.13.1"
  }
 },
 "nbformat": 4,
 "nbformat_minor": 4
}
